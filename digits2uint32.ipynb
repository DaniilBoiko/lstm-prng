{
 "cells": [
  {
   "cell_type": "code",
   "execution_count": 18,
   "metadata": {},
   "outputs": [],
   "source": [
    "numbers = []\n",
    "with open(\"2.6_millon.txt\", \"r\") as f:\n",
    "    number_buff = 0\n",
    "    number_len = 0\n",
    "    for line in f.readlines():\n",
    "        if number_len < 10:\n",
    "            if 10*number_buff+int(line) >= 2**32:\n",
    "                numbers.append(number_buff)\n",
    "                number_buff = int(line)\n",
    "                number_len = 1\n",
    "            else:\n",
    "                number_buff = 10*number_buff+int(line)\n",
    "                number_len += 1\n",
    "        if number_len == 10:\n",
    "            if number_buff < 2**32:\n",
    "                numbers.append(number_buff)\n",
    "            \n",
    "            number_buff = int(line)\n",
    "            number_len = 1\n"
   ]
  },
  {
   "cell_type": "code",
   "execution_count": 23,
   "metadata": {},
   "outputs": [],
   "source": [
    "with open(\"ns.txt\", \"w\") as f:\n",
    "    f.writelines([str(number)+\"\\n\" for number in numbers])"
   ]
  }
 ],
 "metadata": {
  "kernelspec": {
   "display_name": "Python 3",
   "language": "python",
   "name": "python3"
  },
  "language_info": {
   "codemirror_mode": {
    "name": "ipython",
    "version": 3
   },
   "file_extension": ".py",
   "mimetype": "text/x-python",
   "name": "python",
   "nbconvert_exporter": "python",
   "pygments_lexer": "ipython3",
   "version": "3.7.4"
  }
 },
 "nbformat": 4,
 "nbformat_minor": 2
}
